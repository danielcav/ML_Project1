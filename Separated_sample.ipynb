{
 "cells": [
  {
   "cell_type": "code",
   "execution_count": 32,
   "id": "bibliographic-knitting",
   "metadata": {},
   "outputs": [
    {
     "name": "stdout",
     "output_type": "stream",
     "text": [
      "The autoreload extension is already loaded. To reload it, use:\n",
      "  %reload_ext autoreload\n"
     ]
    }
   ],
   "source": [
    "# Useful starting lines\n",
    "%matplotlib inline\n",
    "import numpy as np\n",
    "import matplotlib.pyplot as plt\n",
    "%load_ext autoreload\n",
    "%autoreload 2"
   ]
  },
  {
   "cell_type": "code",
   "execution_count": 33,
   "id": "understood-tampa",
   "metadata": {},
   "outputs": [],
   "source": [
    "from helpers import *\n",
    "from implementations import *\n",
    "SET_TRAIN = 'data/train.csv' # download train data\n",
    "y, tx, ids = load_csv_data(SET_TRAIN)"
   ]
  },
  {
   "cell_type": "code",
   "execution_count": 34,
   "id": "returning-justice",
   "metadata": {},
   "outputs": [],
   "source": [
    "tx_jet = tx[:,22]"
   ]
  },
  {
   "cell_type": "code",
   "execution_count": 35,
   "id": "greatest-marker",
   "metadata": {},
   "outputs": [],
   "source": [
    "#print(tx_jet)"
   ]
  },
  {
   "cell_type": "code",
   "execution_count": 36,
   "id": "specialized-representation",
   "metadata": {},
   "outputs": [],
   "source": [
    "x_train, to_replace = data_processing(y, tx)"
   ]
  },
  {
   "cell_type": "code",
   "execution_count": 43,
   "id": "aerial-dialogue",
   "metadata": {},
   "outputs": [],
   "source": [
    "Y_, tx_jet_num = jet_num(y, x_train, tx_jet)"
   ]
  },
  {
   "cell_type": "code",
   "execution_count": 44,
   "id": "numeric-collective",
   "metadata": {},
   "outputs": [
    {
     "name": "stdout",
     "output_type": "stream",
     "text": [
      "3\n"
     ]
    }
   ],
   "source": [
    "print(len(tx_jet_num))"
   ]
  },
  {
   "cell_type": "code",
   "execution_count": 45,
   "id": "blind-lodging",
   "metadata": {},
   "outputs": [
    {
     "name": "stdout",
     "output_type": "stream",
     "text": [
      "(72543, 24)\n",
      "(72543,)\n"
     ]
    }
   ],
   "source": [
    "print(tx_jet_num[2].shape)\n",
    "print(Y_[2].shape)"
   ]
  },
  {
   "cell_type": "code",
   "execution_count": 46,
   "id": "rising-dating",
   "metadata": {},
   "outputs": [
    {
     "name": "stdout",
     "output_type": "stream",
     "text": [
      "5.055969104887146e-06\n"
     ]
    }
   ],
   "source": [
    "weights = []\n",
    "losses = []\n",
    "w, loss = ridge_regression(Y_[0], tx_jet_num[0], 1e-5)\n",
    "print(loss)"
   ]
  },
  {
   "cell_type": "code",
   "execution_count": 47,
   "id": "comfortable-converter",
   "metadata": {},
   "outputs": [],
   "source": [
    "for i in range(len(tx_jet_num)):\n",
    "    w, loss = ridge_regression(Y_[i], tx_jet_num[i], 1e-5)\n",
    "    weights.append(w)\n",
    "    losses.append(loss)"
   ]
  },
  {
   "cell_type": "code",
   "execution_count": 48,
   "id": "violent-glory",
   "metadata": {},
   "outputs": [
    {
     "name": "stdout",
     "output_type": "stream",
     "text": [
      "[5.055969104887146e-06, 4.089593783238749e-06, 0.347896426374135]\n"
     ]
    }
   ],
   "source": [
    "print(losses)"
   ]
  },
  {
   "cell_type": "code",
   "execution_count": null,
   "id": "obvious-vault",
   "metadata": {},
   "outputs": [],
   "source": []
  }
 ],
 "metadata": {
  "kernelspec": {
   "display_name": "Python 3",
   "language": "python",
   "name": "python3"
  },
  "language_info": {
   "codemirror_mode": {
    "name": "ipython",
    "version": 3
   },
   "file_extension": ".py",
   "mimetype": "text/x-python",
   "name": "python",
   "nbconvert_exporter": "python",
   "pygments_lexer": "ipython3",
   "version": "3.9.0"
  }
 },
 "nbformat": 4,
 "nbformat_minor": 5
}
