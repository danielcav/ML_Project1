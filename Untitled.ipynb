{
 "cells": [
  {
   "cell_type": "code",
   "execution_count": 11,
   "id": "swiss-marks",
   "metadata": {},
   "outputs": [
    {
     "name": "stdout",
     "output_type": "stream",
     "text": [
      "The autoreload extension is already loaded. To reload it, use:\n",
      "  %reload_ext autoreload\n"
     ]
    }
   ],
   "source": [
    "# Useful starting lines\n",
    "%matplotlib inline\n",
    "import numpy as np\n",
    "import matplotlib.pyplot as plt\n",
    "%load_ext autoreload\n",
    "%autoreload 2"
   ]
  },
  {
   "cell_type": "code",
   "execution_count": 12,
   "id": "binding-asset",
   "metadata": {},
   "outputs": [],
   "source": [
    "from helpers import *\n",
    "from implementations import *\n",
    "SET_TRAIN = 'data/train.csv' # download train data\n",
    "y, tx, ids = load_csv_data(SET_TRAIN)"
   ]
  },
  {
   "cell_type": "code",
   "execution_count": 13,
   "id": "moving-macintosh",
   "metadata": {},
   "outputs": [
    {
     "name": "stdout",
     "output_type": "stream",
     "text": [
      "{5, 12, 23, 26, 27, 28}\n"
     ]
    }
   ],
   "source": [
    "x_test, to_replace = data_processing(y, tx)\n",
    "print(to_replace)"
   ]
  },
  {
   "cell_type": "code",
   "execution_count": 14,
   "id": "wrapped-hamburg",
   "metadata": {
    "tags": []
   },
   "outputs": [
    {
     "name": "stdout",
     "output_type": "stream",
     "text": [
      "[1.00000000e-09 5.62341325e-09 3.16227766e-08 1.77827941e-07\n",
      " 1.00000000e-06]\n"
     ]
    }
   ],
   "source": [
    "features = np.arange(0, x_test.shape[1], 1)\n",
    "degree = np.arange(2, 25, 1)\n",
    "lambdas = np.logspace(-9, -6, 5)\n",
    "print(lambdas)\n",
    "best_lambda = lambdas[0]\n",
    "best_degree = degree[19]"
   ]
  },
  {
   "cell_type": "code",
   "execution_count": 15,
   "id": "macro-criminal",
   "metadata": {},
   "outputs": [],
   "source": [
    "#_, loss = least_squares(y, x_test)\n",
    "#losses = np.array([0, loss])\n",
    "#print(degree)\n",
    "\n",
    "#all_losses = []"
   ]
  },
  {
   "cell_type": "code",
   "execution_count": null,
   "id": "palestinian-irrigation",
   "metadata": {},
   "outputs": [],
   "source": [
    "_, loss = least_squares(y, x_test)\n",
    "losses = np.array([0, loss])\n",
    "for deg in degree:\n",
    "    x_test_aug = polynomial_features(x_test, features, deg)\n",
    "    _, loss2 = ridge_regression(y, x_test_aug, best_lambda)\n",
    "    loss_deg = np.array([deg, loss2])\n",
    "    losses = np.column_stack((losses, loss_deg))\n",
    "\n",
    "plt.plot(losses[0], losses[1])\n",
    "font1 = {'family':'serif','color':'darkred','size':12}\n",
    "font2 = {'family':'serif','color':'black','size':12}\n",
    "\n",
    "plt.title(\"Loss of ridge regression model with lambda = 1e-09 in relation to the degree of Polynomial feature expansion \", fontdict = font1)\n",
    "plt.xlabel(\"Degree \", fontdict = font2)\n",
    "plt.ylabel(\"Loss \", fontdict = font2)\n",
    "\n",
    "plt.show()\n",
    "\n",
    "plt.savefig('Ridge.png')"
   ]
  },
  {
   "cell_type": "code",
   "execution_count": 7,
   "id": "developing-japan",
   "metadata": {},
   "outputs": [],
   "source": [
    "x_test_aug = polynomial_features(x_test, features, best_degree)\n",
    "w, loss2 = ridge_regression(y, x_test_aug, best_lambda)"
   ]
  },
  {
   "cell_type": "code",
   "execution_count": 8,
   "id": "joint-subsection",
   "metadata": {},
   "outputs": [
    {
     "name": "stdout",
     "output_type": "stream",
     "text": [
      "0.1275356404924798\n"
     ]
    }
   ],
   "source": [
    "print(loss2)"
   ]
  },
  {
   "cell_type": "code",
   "execution_count": 9,
   "id": "tamil-pension",
   "metadata": {},
   "outputs": [],
   "source": [
    "#for replace in to_replace:\n",
    "#    w = np.insert(w, replace, 0)"
   ]
  },
  {
   "cell_type": "code",
   "execution_count": 10,
   "id": "vertical-steps",
   "metadata": {},
   "outputs": [],
   "source": [
    "#w.shape"
   ]
  },
  {
   "cell_type": "code",
   "execution_count": 11,
   "id": "ecological-twelve",
   "metadata": {},
   "outputs": [],
   "source": [
    "SET_TEST = 'data/test.csv' # TODO: download train data and supply path here \n",
    "_, tx_test, ids_test = load_csv_data(SET_TEST)\n",
    "tX, to_replace = data_processing_test(tx_test)\n",
    "tX_= polynomial_features(tX, features, best_degree)"
   ]
  },
  {
   "cell_type": "code",
   "execution_count": 12,
   "id": "chronic-church",
   "metadata": {},
   "outputs": [
    {
     "data": {
      "text/plain": [
       "(568238, 24)"
      ]
     },
     "execution_count": 12,
     "metadata": {},
     "output_type": "execute_result"
    }
   ],
   "source": [
    "tX.shape"
   ]
  },
  {
   "cell_type": "code",
   "execution_count": 13,
   "id": "published-russell",
   "metadata": {},
   "outputs": [],
   "source": [
    "OUTPUT= 'submission_ridge.csv' # TODO: fill in desired name of output file for submission\n",
    "y_pred = predict_labels(w, tX_)\n",
    "create_csv_submission(ids_test, y_pred, OUTPUT)"
   ]
  },
  {
   "cell_type": "code",
   "execution_count": 14,
   "id": "understood-attachment",
   "metadata": {},
   "outputs": [
    {
     "data": {
      "text/plain": [
       "(568238,)"
      ]
     },
     "execution_count": 14,
     "metadata": {},
     "output_type": "execute_result"
    }
   ],
   "source": [
    "y_pred.shape"
   ]
  },
  {
   "cell_type": "code",
   "execution_count": null,
   "id": "civic-tooth",
   "metadata": {},
   "outputs": [],
   "source": []
  }
 ],
 "metadata": {
  "kernelspec": {
   "display_name": "Python 3",
   "language": "python",
   "name": "python3"
  },
  "language_info": {
   "codemirror_mode": {
    "name": "ipython",
    "version": 3
   },
   "file_extension": ".py",
   "mimetype": "text/x-python",
   "name": "python",
   "nbconvert_exporter": "python",
   "pygments_lexer": "ipython3",
   "version": "3.9.0"
  }
 },
 "nbformat": 4,
 "nbformat_minor": 5
}
