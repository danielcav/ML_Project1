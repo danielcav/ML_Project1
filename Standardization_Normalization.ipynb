{
 "cells": [
  {
   "cell_type": "markdown",
   "id": "collect-chance",
   "metadata": {},
   "source": [
    "# Test for normalization vs standardization:\n"
   ]
  },
  {
   "cell_type": "code",
   "execution_count": 1,
   "id": "oriented-insert",
   "metadata": {},
   "outputs": [],
   "source": [
    "# Useful starting lines\n",
    "%matplotlib inline\n",
    "import numpy as np\n",
    "import matplotlib.pyplot as plt\n",
    "%load_ext autoreload\n",
    "%autoreload 2"
   ]
  },
  {
   "cell_type": "markdown",
   "id": "wooden-neighborhood",
   "metadata": {},
   "source": [
    "## A. Test"
   ]
  },
  {
   "cell_type": "code",
   "execution_count": 2,
   "id": "sweet-destruction",
   "metadata": {},
   "outputs": [],
   "source": [
    "from helpers import *\n",
    "from implementations import *\n",
    "SET_TRAIN = 'data/train.csv' # download train data\n",
    "y, tx, ids = load_csv_data(SET_TRAIN)"
   ]
  },
  {
   "cell_type": "code",
   "execution_count": 3,
   "id": "prospective-friday",
   "metadata": {},
   "outputs": [],
   "source": [
    "# a ajouter dans implementations\n",
    "\n",
    "def normalize(x):\n",
    "    \"\"\"Normalize the original data set.\"\"\"\n",
    "    max_ = np.max(x, axis=0)\n",
    "    min_ = np.min(x, axis=0)\n",
    "    d = max_ - min_\n",
    "    x = x - min_\n",
    "    x = x/d\n",
    "    return x, max_, min_\n",
    "\n"
   ]
  },
  {
   "cell_type": "code",
   "execution_count": 4,
   "id": "neither-outdoors",
   "metadata": {},
   "outputs": [],
   "source": [
    "x = tx.T\n",
    "col = []\n",
    "for index, feature in enumerate(x):\n",
    "    percent = np.count_nonzero(feature == -999)/2500\n",
    "    if percent >= 70:\n",
    "        col.append(index)\n",
    "x = np.delete(x, col, axis=0)\n",
    "x_clean = x.T"
   ]
  },
  {
   "cell_type": "code",
   "execution_count": 5,
   "id": "packed-shoulder",
   "metadata": {},
   "outputs": [],
   "source": [
    "#standardized data\n",
    "tx_1, x_mean, x_std = standardize(x_clean)\n",
    "#y_1, y_mean, y_std = standardize(y)"
   ]
  },
  {
   "cell_type": "code",
   "execution_count": 6,
   "id": "technical-blend",
   "metadata": {},
   "outputs": [],
   "source": [
    "#normalized data\n",
    "tx_2, x_max, x_min = normalize(x_clean)\n",
    "#y_2, y_max, y_min = normalize(y)"
   ]
  },
  {
   "cell_type": "code",
   "execution_count": 9,
   "id": "incident-scene",
   "metadata": {},
   "outputs": [],
   "source": [
    "# Define the parameters of the algorithm.\n",
    "max_iters = 1000\n",
    "gamma = 0.01\n",
    "\n",
    "# Initialization\n",
    "initial_w = np.ones(x_clean.shape[1])\n",
    "w = np.zeros(30) # genere les avec une loi normale"
   ]
  },
  {
   "cell_type": "code",
   "execution_count": 10,
   "id": "sunrise-toddler",
   "metadata": {},
   "outputs": [
    {
     "name": "stdout",
     "output_type": "stream",
     "text": [
      "Current iteration=0, loss=2.613339116844155\n",
      "Current iteration=100, loss=2.065771589380615\n",
      "Current iteration=200, loss=1.5726831361985962\n",
      "Current iteration=300, loss=1.156795423300294\n",
      "Current iteration=400, loss=0.8360846059247012\n",
      "Current iteration=500, loss=0.6101183794168245\n",
      "Current iteration=600, loss=0.4594747736122482\n",
      "Current iteration=700, loss=0.3593719775686721\n",
      "Current iteration=800, loss=0.29021000555252263\n",
      "Current iteration=900, loss=0.24007012443092934\n",
      "0.2025792193317672\n"
     ]
    }
   ],
   "source": [
    "lr_w, lr_loss = logistic_regression(y, tx_1, initial_w, max_iters, gamma)\n",
    "print(lr_loss)"
   ]
  },
  {
   "cell_type": "code",
   "execution_count": 11,
   "id": "actual-preserve",
   "metadata": {},
   "outputs": [
    {
     "name": "stdout",
     "output_type": "stream",
     "text": [
      "Current iteration=0, loss=3.2656726188926886\n",
      "Current iteration=100, loss=0.6197064936809651\n",
      "Current iteration=200, loss=-0.20581941526479117\n",
      "Current iteration=300, loss=-0.6115460013498049\n",
      "Current iteration=400, loss=-0.9009255666343766\n",
      "Current iteration=500, loss=-1.1426692342355664\n",
      "Current iteration=600, loss=-1.3610963815230712\n",
      "Current iteration=700, loss=-1.5669543335002798\n",
      "Current iteration=800, loss=-1.7656225911118808\n",
      "Current iteration=900, loss=-1.9600120284844316\n",
      "-2.1498736911908507\n"
     ]
    }
   ],
   "source": [
    "lr_w_, lr_loss_ = logistic_regression(y, tx_2, initial_w, max_iters, gamma)\n",
    "print(lr_loss_)"
   ]
  },
  {
   "cell_type": "code",
   "execution_count": 12,
   "id": "canadian-sheriff",
   "metadata": {},
   "outputs": [
    {
     "name": "stdout",
     "output_type": "stream",
     "text": [
      "Current iteration=0, loss=-2892.4417154320836\n",
      "Current iteration=100, loss=-131660.4568183203\n",
      "Current iteration=200, loss=-260419.64110631414\n",
      "Current iteration=300, loss=-389180.23859467666\n",
      "Current iteration=400, loss=-517941.1529966709\n",
      "Current iteration=500, loss=-646702.2006589874\n",
      "Current iteration=600, loss=-775463.2354318395\n",
      "Current iteration=700, loss=-904224.3927068454\n",
      "Current iteration=800, loss=-1032985.5943163421\n",
      "Current iteration=900, loss=-1161746.751828464\n",
      "-1289220.2903742485\n"
     ]
    }
   ],
   "source": [
    "lr_w__, lr_loss__ = logistic_regression(y, x_clean, initial_w, max_iters, gamma)\n",
    "print(lr_loss__)"
   ]
  },
  {
   "cell_type": "code",
   "execution_count": 57,
   "id": "desirable-queensland",
   "metadata": {},
   "outputs": [
    {
     "name": "stdout",
     "output_type": "stream",
     "text": [
      "0.12298304725877086\n"
     ]
    }
   ],
   "source": [
    "w_, loss_ = mean_squared_error_gd(y_2, tx_2, initial_w, 1000, 0.01)\n",
    "print(loss_)"
   ]
  },
  {
   "cell_type": "code",
   "execution_count": 58,
   "id": "maritime-apache",
   "metadata": {},
   "outputs": [
    {
     "name": "stdout",
     "output_type": "stream",
     "text": [
      "0.3833299538079915\n"
     ]
    }
   ],
   "source": [
    "w__, loss__ = mean_squared_error_gd(y_1, tx_1, initial_w, 1000, 0.01)\n",
    "print(loss__)"
   ]
  },
  {
   "cell_type": "code",
   "execution_count": 81,
   "id": "educated-steal",
   "metadata": {},
   "outputs": [],
   "source": [
    "#reduce outliers\n",
    "#for num, row in enumerate(tx.T):\n",
    "#    tx.T[num] = reduce_outliers(row)"
   ]
  }
 ],
 "metadata": {
  "kernelspec": {
   "display_name": "Python 3",
   "language": "python",
   "name": "python3"
  },
  "language_info": {
   "codemirror_mode": {
    "name": "ipython",
    "version": 3
   },
   "file_extension": ".py",
   "mimetype": "text/x-python",
   "name": "python",
   "nbconvert_exporter": "python",
   "pygments_lexer": "ipython3",
   "version": "3.9.0"
  }
 },
 "nbformat": 4,
 "nbformat_minor": 5
}
