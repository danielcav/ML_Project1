{
 "cells": [
  {
   "cell_type": "markdown",
   "id": "tight-edgar",
   "metadata": {},
   "source": [
    "# Test for normalization vs standardization:\n"
   ]
  },
  {
   "cell_type": "code",
   "execution_count": 64,
   "id": "pointed-greene",
   "metadata": {},
   "outputs": [
    {
     "name": "stdout",
     "output_type": "stream",
     "text": [
      "The autoreload extension is already loaded. To reload it, use:\n",
      "  %reload_ext autoreload\n"
     ]
    }
   ],
   "source": [
    "# Useful starting lines\n",
    "%matplotlib inline\n",
    "import numpy as np\n",
    "import matplotlib.pyplot as plt\n",
    "%load_ext autoreload\n",
    "%autoreload 2"
   ]
  },
  {
   "cell_type": "markdown",
   "id": "pending-delight",
   "metadata": {},
   "source": [
    "## A. Test"
   ]
  },
  {
   "cell_type": "code",
   "execution_count": 65,
   "id": "variable-guyana",
   "metadata": {},
   "outputs": [],
   "source": [
    "from helpers import *\n",
    "from implementations import *\n",
    "SET_TRAIN = 'data/train.csv' # download train data\n",
    "y, tx, ids = load_csv_data(SET_TRAIN)"
   ]
  },
  {
   "cell_type": "code",
   "execution_count": 66,
   "id": "entire-laundry",
   "metadata": {},
   "outputs": [],
   "source": [
    "tx, to_replace = data_processing(y, tx)"
   ]
  },
  {
   "cell_type": "code",
   "execution_count": 8,
   "id": "paperback-winning",
   "metadata": {},
   "outputs": [],
   "source": [
    "# a ajouter dans implementations\n",
    "\n",
    "def normalize(x):\n",
    "    \"\"\"Normalize the original data set.\"\"\"\n",
    "    max_ = np.max(x, axis=0)\n",
    "    min_ = np.min(x, axis=0)\n",
    "    d = max_ - min_\n",
    "    x = x - min_\n",
    "    x = x/d\n",
    "    return x, max_, min_\n",
    "\n"
   ]
  },
  {
   "cell_type": "code",
   "execution_count": 67,
   "id": "laughing-talent",
   "metadata": {},
   "outputs": [
    {
     "name": "stdout",
     "output_type": "stream",
     "text": [
      "(250000,)\n",
      "[0.57593058 0.67590611 0.44404925 ... 0.42902659 0.38227612 0.44404925]\n",
      "[1. 1. 1. ... 1. 1. 1.]\n"
     ]
    }
   ],
   "source": [
    "print(y.shape)\n",
    "print(tx[:,0])\n",
    "X0 = np.ones((tx.shape[0],1))\n",
    "tx = np.hstack((X0, tx))\n",
    "print(tx[:,0])"
   ]
  },
  {
   "cell_type": "code",
   "execution_count": 68,
   "id": "champion-basics",
   "metadata": {},
   "outputs": [],
   "source": [
    "#initial_w = least_squares(y, tx)[0]"
   ]
  },
  {
   "cell_type": "code",
   "execution_count": 69,
   "id": "recreational-carbon",
   "metadata": {},
   "outputs": [
    {
     "name": "stdout",
     "output_type": "stream",
     "text": [
      "[-0.08949664 -0.08949664 -0.02839191 -0.06330538 -0.02881592 -0.00523081\n",
      "  0.00636063 -0.05868574 -0.03449468 -0.01422326 -0.0084115  -0.01023227\n",
      "  0.01379633  0.00616091 -0.04403773 -0.04484701 -0.01713457 -0.04355938\n",
      " -0.04445558 -0.02545906 -0.04312265 -0.0299993  -0.0080909  -0.04445076\n",
      " -0.04452728 -0.00059747]\n"
     ]
    }
   ],
   "source": [
    "print(initial_w)"
   ]
  },
  {
   "cell_type": "code",
   "execution_count": 74,
   "id": "crazy-finland",
   "metadata": {},
   "outputs": [],
   "source": [
    "# Define the parameters of the algorithm.\n",
    "max_iters = 1000\n",
    "gamma = 0.1"
   ]
  },
  {
   "cell_type": "code",
   "execution_count": 75,
   "id": "second-harassment",
   "metadata": {},
   "outputs": [],
   "source": [
    "initial_w = np.zeros(tx.shape[1])"
   ]
  },
  {
   "cell_type": "code",
   "execution_count": 76,
   "id": "guilty-chicken",
   "metadata": {},
   "outputs": [
    {
     "name": "stdout",
     "output_type": "stream",
     "text": [
      "[1. 0. 0. ... 1. 0. 0.]\n"
     ]
    }
   ],
   "source": [
    "y[ y == -1 ] = 0\n",
    "print(y)"
   ]
  },
  {
   "cell_type": "code",
   "execution_count": 77,
   "id": "focal-currency",
   "metadata": {},
   "outputs": [
    {
     "name": "stdout",
     "output_type": "stream",
     "text": [
      "Current iteration=0, loss=0.6831821519904668\n",
      "Current iteration=100, loss=0.5968155797168668\n",
      "Current iteration=200, loss=0.570157976941008\n",
      "Current iteration=300, loss=0.5523022768844897\n",
      "Current iteration=400, loss=0.5383722500330579\n",
      "Current iteration=500, loss=0.5267996662365861\n",
      "Current iteration=600, loss=0.5169085041569688\n",
      "Current iteration=700, loss=0.5083197472840506\n",
      "Current iteration=800, loss=0.5007810976742949\n",
      "Current iteration=900, loss=0.4941084012099184\n",
      "0.48821687000827935\n"
     ]
    }
   ],
   "source": [
    "lr_w, lr_loss = logistic_regression(y, tx, initial_w, max_iters, gamma)\n",
    "print(lr_loss)"
   ]
  },
  {
   "cell_type": "code",
   "execution_count": 78,
   "id": "scenic-substance",
   "metadata": {},
   "outputs": [],
   "source": [
    "initial_w = lr_w"
   ]
  },
  {
   "cell_type": "code",
   "execution_count": 79,
   "id": "preceding-coach",
   "metadata": {},
   "outputs": [
    {
     "name": "stdout",
     "output_type": "stream",
     "text": [
      "Current iteration=0, loss=0.4882112411258915\n",
      "Current iteration=100, loss=0.4876514293705867\n",
      "Current iteration=200, loss=0.4870976446253641\n",
      "Current iteration=300, loss=0.48654979138517845\n",
      "Current iteration=400, loss=0.4860077761769963\n",
      "Current iteration=500, loss=0.4854715075033281\n",
      "Current iteration=600, loss=0.4849408957878136\n",
      "Current iteration=700, loss=0.48441585332276277\n",
      "Current iteration=800, loss=0.48389629421856\n",
      "Current iteration=900, loss=0.4833821343548463\n"
     ]
    }
   ],
   "source": [
    "gamma = 0.01\n",
    "lr_w, lr_loss = logistic_regression(y, tx, initial_w, max_iters, gamma)"
   ]
  },
  {
   "cell_type": "code",
   "execution_count": 80,
   "id": "eight-scotland",
   "metadata": {},
   "outputs": [],
   "source": [
    "initial_w = lr_w"
   ]
  },
  {
   "cell_type": "code",
   "execution_count": 81,
   "id": "incredible-housing",
   "metadata": {},
   "outputs": [
    {
     "name": "stdout",
     "output_type": "stream",
     "text": [
      "Current iteration=0, loss=0.4828778474620509\n",
      "Current iteration=100, loss=0.482827248931626\n",
      "Current iteration=200, loss=0.48277670268514544\n",
      "Current iteration=300, loss=0.48272620864295374\n",
      "Current iteration=400, loss=0.48267576672555823\n",
      "Current iteration=500, loss=0.48262537685362733\n",
      "Current iteration=600, loss=0.48257503894799236\n",
      "Current iteration=700, loss=0.48252475292964453\n",
      "Current iteration=800, loss=0.482474518719736\n",
      "Current iteration=900, loss=0.48242433623957975\n"
     ]
    }
   ],
   "source": [
    "gamma = 0.001\n",
    "lr_w, lr_loss = logistic_regression(y, tx, initial_w, max_iters, gamma)"
   ]
  },
  {
   "cell_type": "code",
   "execution_count": 85,
   "id": "complete-employment",
   "metadata": {},
   "outputs": [
    {
     "name": "stdout",
     "output_type": "stream",
     "text": [
      "[0.001      0.00562341 0.03162278 0.17782794 1.        ]\n"
     ]
    }
   ],
   "source": [
    "lambdas = np.logspace(-3, 0, 5)\n",
    "print(lambdas)\n",
    "\n",
    "#for ind, lambda_ in enumerate(lambdas):\n",
    "   # rlr_w, rlr_loss = reg_logistic_regression(y, tx, lambda_, initial_w, max_iters, gamma)\n"
   ]
  },
  {
   "cell_type": "code",
   "execution_count": null,
   "id": "italic-garage",
   "metadata": {},
   "outputs": [],
   "source": []
  }
 ],
 "metadata": {
  "kernelspec": {
   "display_name": "Python 3",
   "language": "python",
   "name": "python3"
  },
  "language_info": {
   "codemirror_mode": {
    "name": "ipython",
    "version": 3
   },
   "file_extension": ".py",
   "mimetype": "text/x-python",
   "name": "python",
   "nbconvert_exporter": "python",
   "pygments_lexer": "ipython3",
   "version": "3.9.0"
  }
 },
 "nbformat": 4,
 "nbformat_minor": 5
}
