{
 "cells": [
  {
   "cell_type": "markdown",
   "id": "retained-ideal",
   "metadata": {},
   "source": [
    "# Template to test methods:\n"
   ]
  },
  {
   "cell_type": "code",
   "execution_count": 1,
   "id": "animal-phoenix",
   "metadata": {},
   "outputs": [],
   "source": [
    "# Useful starting lines\n",
    "%matplotlib inline\n",
    "import numpy as np\n",
    "import matplotlib.pyplot as plt\n",
    "%load_ext autoreload\n",
    "%autoreload 2"
   ]
  },
  {
   "cell_type": "markdown",
   "id": "committed-supplement",
   "metadata": {},
   "source": [
    "## A. Load Training set"
   ]
  },
  {
   "cell_type": "code",
   "execution_count": 7,
   "id": "tutorial-scale",
   "metadata": {},
   "outputs": [],
   "source": [
    "from helpers import *\n",
    "from implementations import *\n",
    "SET_TRAIN = 'data/train.csv' # download train data\n",
    "y, tx, ids = load_csv_data(SET_TRAIN)"
   ]
  },
  {
   "cell_type": "code",
   "execution_count": 9,
   "id": "employed-sleep",
   "metadata": {},
   "outputs": [],
   "source": [
    "#standardize data\n",
    "x_mean = []\n",
    "x_std = []\n",
    "for num, row in enumerate(tx.T):\n",
    "    x, mean, std = standardize(row)\n",
    "    tx.T[num] = x\n",
    "    x_mean.append(mean)\n",
    "    x_std.append(std)\n",
    "y, y_mean, y_std = standardize(y)"
   ]
  },
  {
   "cell_type": "code",
   "execution_count": 10,
   "id": "statistical-location",
   "metadata": {},
   "outputs": [],
   "source": [
    "#reduce outliers\n",
    "for num, row in enumerate(tx.T):\n",
    "    tx.T[num] = reduce_outliers(row)"
   ]
  },
  {
   "cell_type": "markdown",
   "id": "anonymous-paris",
   "metadata": {},
   "source": [
    "## B. Testing methods"
   ]
  },
  {
   "cell_type": "code",
   "execution_count": 11,
   "id": "front-instruction",
   "metadata": {},
   "outputs": [],
   "source": [
    "import datetime"
   ]
  },
  {
   "cell_type": "markdown",
   "id": "normal-concentration",
   "metadata": {},
   "source": [
    "### 1] Gradient Descent"
   ]
  },
  {
   "cell_type": "code",
   "execution_count": 18,
   "id": "casual-blake",
   "metadata": {},
   "outputs": [],
   "source": [
    "# Define the parameters of the algorithm.\n",
    "max_iters = 100\n",
    "gamma = 0.7\n",
    "\n",
    "# Initialization\n",
    "w_initial = np.zeros(tx.shape[1])\n"
   ]
  },
  {
   "cell_type": "code",
   "execution_count": 19,
   "id": "polish-league",
   "metadata": {},
   "outputs": [
    {
     "name": "stdout",
     "output_type": "stream",
     "text": [
      "GD: execution time=3.715 seconds\n"
     ]
    }
   ],
   "source": [
    "# Start gradient descent.\n",
    "from plots import gradient_descent_visualization\n",
    "\n",
    "start_time = datetime.datetime.now()\n",
    "gd_w, gd_loss = mean_squared_error_gd(y, tx, w_initial, max_iters, gamma)\n",
    "end_time = datetime.datetime.now()\n",
    "\n",
    "# Print result\n",
    "exection_time = (end_time - start_time).total_seconds()\n",
    "print(\"GD: execution time={t:.3f} seconds\".format(t=exection_time))"
   ]
  },
  {
   "cell_type": "code",
   "execution_count": 23,
   "id": "arabic-annotation",
   "metadata": {},
   "outputs": [
    {
     "name": "stdout",
     "output_type": "stream",
     "text": [
      "0.4614137150198521 6.683807718006926e+187\n"
     ]
    }
   ],
   "source": [
    "print(tx[0,0], gd_loss)"
   ]
  },
  {
   "cell_type": "markdown",
   "id": "charming-saver",
   "metadata": {},
   "source": [
    "### 2] Stochastic Gradient Descent"
   ]
  },
  {
   "cell_type": "code",
   "execution_count": null,
   "id": "welsh-sacramento",
   "metadata": {},
   "outputs": [],
   "source": []
  }
 ],
 "metadata": {
  "kernelspec": {
   "display_name": "Python 3",
   "language": "python",
   "name": "python3"
  },
  "language_info": {
   "codemirror_mode": {
    "name": "ipython",
    "version": 3
   },
   "file_extension": ".py",
   "mimetype": "text/x-python",
   "name": "python",
   "nbconvert_exporter": "python",
   "pygments_lexer": "ipython3",
   "version": "3.9.0"
  }
 },
 "nbformat": 4,
 "nbformat_minor": 5
}
