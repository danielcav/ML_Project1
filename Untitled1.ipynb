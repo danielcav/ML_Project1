{
 "cells": [
  {
   "cell_type": "code",
   "execution_count": 3,
   "id": "figured-rings",
   "metadata": {},
   "outputs": [
    {
     "name": "stdout",
     "output_type": "stream",
     "text": [
      "The autoreload extension is already loaded. To reload it, use:\n",
      "  %reload_ext autoreload\n"
     ]
    }
   ],
   "source": [
    "# Useful starting lines\n",
    "%matplotlib inline\n",
    "import numpy as np\n",
    "import matplotlib.pyplot as plt\n",
    "%load_ext autoreload\n",
    "%autoreload 2"
   ]
  },
  {
   "cell_type": "code",
   "execution_count": 4,
   "id": "fifth-friendship",
   "metadata": {},
   "outputs": [],
   "source": [
    "import seaborn as sns\n",
    "from implementations import *\n",
    "\n",
    "# Data loading\n",
    "y, tx, ids = load_csv_data('data/train.csv')\n",
    "# Data processing\n",
    "x_test, to_replace = data_processing(y, tx)\n",
    "features = np.arange(0, x_test.shape[1], 1)\n",
    "degree = np.arange(2, 25, 1)\n",
    "_, loss = least_squares(y, x_test)\n",
    "losses = np.array([0, loss])\n"
   ]
  },
  {
   "cell_type": "code",
   "execution_count": 5,
   "id": "norman-statement",
   "metadata": {},
   "outputs": [
    {
     "data": {
      "image/png": "[encoded data removed]",
      "text/plain": [
       "<Figure size 432x288 with 1 Axes>"
      ]
     },
     "metadata": {
      "needs_background": "light"
     },
     "output_type": "display_data"
    },
    {
     "data": {
      "text/plain": [
       "<Figure size 432x288 with 0 Axes>"
      ]
     },
     "metadata": {},
     "output_type": "display_data"
    }
   ],
   "source": [
    "for deg in degree:\n",
    "    x_test_aug = polynomial_features(x_test, features, deg)\n",
    "    _, loss2 = least_squares(y, x_test_aug)\n",
    "    loss_deg = np.array([deg, loss2])\n",
    "    losses = np.column_stack((losses, loss_deg))\n",
    "\n",
    "plt.plot(losses[0], losses[1])\n",
    "font1 = {'family':'serif','color':'darkred','size':12}\n",
    "font2 = {'family':'serif','color':'black','size':12}\n",
    "\n",
    "plt.title(\"Loss of ridge regression model with lambda = 1e-09 in relation to the degree of Polynomial feature expansion \", fontdict = font1)\n",
    "plt.xlabel(\"Degree \", fontdict = font2)\n",
    "plt.ylabel(\"Loss \", fontdict = font2)\n",
    "\n",
    "plt.show()\n",
    "\n",
    "plt.savefig('Leastsquares.png')"
   ]
  },
  {
   "cell_type": "code",
   "execution_count": 15,
   "id": "optional-standing",
   "metadata": {},
   "outputs": [
    {
     "data": {
      "text/plain": [
       "array([[ 0.        ,  2.        ,  3.        ,  4.        ,  5.        ,\n",
       "         6.        ,  7.        ,  8.        ,  9.        , 10.        ,\n",
       "        11.        , 12.        , 13.        , 14.        , 15.        ,\n",
       "        16.        , 17.        , 18.        , 19.        , 20.        ,\n",
       "        21.        , 22.        , 23.        , 24.        ],\n",
       "       [ 0.25310933,  0.21039105,  0.16336772,  0.14571523,  0.14008159,\n",
       "         0.12557545,  0.12246764,  0.12033731,  0.11700726,  0.11639745,\n",
       "         0.1181049 ,  0.11608051,  0.11644167,  0.11659021,  0.11567548,\n",
       "         0.11522779,  0.11831746,  0.11533839,  0.19860843,  0.12250155,\n",
       "         0.11635493,  0.11627887,  0.1325135 ,  0.13855638]])"
      ]
     },
     "execution_count": 15,
     "metadata": {},
     "output_type": "execute_result"
    }
   ],
   "source": [
    "loss_deg\n",
    "losses\n"
   ]
  },
  {
   "cell_type": "code",
   "execution_count": 3,
   "id": "sporting-authorization",
   "metadata": {},
   "outputs": [],
   "source": [
    "x_aug = polynomial_features(x_test, features, 16)\n",
    "w, loss_ = least_squares(y, x_aug)"
   ]
  },
  {
   "cell_type": "code",
   "execution_count": 4,
   "id": "classified-canyon",
   "metadata": {},
   "outputs": [
    {
     "name": "stdout",
     "output_type": "stream",
     "text": [
      "0.11522778765915678\n"
     ]
    }
   ],
   "source": [
    "print(loss_)\n",
    "#for replace in to_replace:\n",
    "#    w = np.insert(w, replace, 0)"
   ]
  },
  {
   "cell_type": "code",
   "execution_count": 5,
   "id": "informed-mailing",
   "metadata": {},
   "outputs": [],
   "source": [
    "SET_TEST = 'data/test.csv' # TODO: download train data and supply path here \n",
    "_, tx_test, ids_test = load_csv_data(SET_TEST)\n",
    "tX_test, to_replace = data_processing_test(tx_test)\n",
    "tX = polynomial_features(tX_test, features, 16)"
   ]
  },
  {
   "cell_type": "code",
   "execution_count": 6,
   "id": "banner-monkey",
   "metadata": {},
   "outputs": [],
   "source": [
    "y_pred = predict_labels(w, tX)"
   ]
  },
  {
   "cell_type": "code",
   "execution_count": 8,
   "id": "advised-minute",
   "metadata": {},
   "outputs": [],
   "source": [
    "OUTPUT= 'submission_least_squares.csv' # TODO: fill in desired name of output file for submission\n",
    "y_pred = predict_labels(w, tX)\n",
    "create_csv_submission(ids_test, y_pred, OUTPUT)"
   ]
  },
  {
   "cell_type": "code",
   "execution_count": 9,
   "id": "injured-tumor",
   "metadata": {},
   "outputs": [
    {
     "data": {
      "text/plain": [
       "(568238,)"
      ]
     },
     "execution_count": 9,
     "metadata": {},
     "output_type": "execute_result"
    }
   ],
   "source": [
    "y_pred.shape"
   ]
  },
  {
   "cell_type": "code",
   "execution_count": 10,
   "id": "controversial-orientation",
   "metadata": {},
   "outputs": [
    {
     "data": {
      "text/plain": [
       "(568238, 30)"
      ]
     },
     "execution_count": 10,
     "metadata": {},
     "output_type": "execute_result"
    }
   ],
   "source": [
    "tx_test.shape"
   ]
  },
  {
   "cell_type": "code",
   "execution_count": null,
   "id": "pressed-experiment",
   "metadata": {},
   "outputs": [],
   "source": []
  }
 ],
 "metadata": {
  "kernelspec": {
   "display_name": "Python 3",
   "language": "python",
   "name": "python3"
  },
  "language_info": {
   "codemirror_mode": {
    "name": "ipython",
    "version": 3
   },
   "file_extension": ".py",
   "mimetype": "text/x-python",
   "name": "python",
   "nbconvert_exporter": "python",
   "pygments_lexer": "ipython3",
   "version": "3.9.0"
  }
 },
 "nbformat": 4,
 "nbformat_minor": 5
}
